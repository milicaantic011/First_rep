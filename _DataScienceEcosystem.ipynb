{
 "cells": [
  {
   "cell_type": "markdown",
   "id": "bd62c6ac-1407-4e3f-b581-d9909739e338",
   "metadata": {},
   "source": [
    "# Data Science Tools and Ecosystem"
   ]
  },
  {
   "cell_type": "markdown",
   "id": "22f34f9f-2e3a-4df7-a858-7c9fa902256d",
   "metadata": {},
   "source": [
    "In this notebook, Data Science Tools and Ecosystem are summarized.\n"
   ]
  },
  {
   "cell_type": "markdown",
   "id": "da4ac179-f12e-4fcb-80ff-a9294b6e6742",
   "metadata": {},
   "source": [
    "Some of the popular languages that Data Scientists use are:\n",
    "\n",
    "1. Python\n",
    "2. SQL\n",
    "3. R"
   ]
  },
  {
   "cell_type": "markdown",
   "id": "ea85cd4b-3c16-4343-b48c-84e93848d8da",
   "metadata": {},
   "source": [
    "Some of the commonly used libraries used by Data Scientists include:\n",
    "\n",
    "1. **Pandas** – for data manipulation and analysis  \n",
    "2. **NumPy** – for numerical computing  \n",
    "3. **Matplotlib** – for data visualization  \n",
    "4. **Scikit-learn** – for machine learning  \n",
    "5. **TensorFlow** – for deep learning\n"
   ]
  },
  {
   "cell_type": "markdown",
   "id": "d8993d92-9127-48b2-be78-17ff38c7d91e",
   "metadata": {},
   "source": [
    "| Data Science Tools        |\n",
    "|---------------------------|\n",
    "| Jupyter Notebook          |\n",
    "| RStudio                   |\n",
    "| Visual Studio Code (VS Code) |\n"
   ]
  },
  {
   "cell_type": "markdown",
   "id": "a0f93075-d173-4535-a89b-2b59d74b10f9",
   "metadata": {},
   "source": [
    "### Below are a few examples of evaluating arithmetic expressions in Python.\n",
    "\n",
    "| Expression | Result |\n",
    "|------------|--------|\n",
    "| `3 + 2`    | `5`    |\n",
    "| `5 * 6`    | `30`   |\n",
    "| `10 / 2`   | `5.0`  |\n",
    "| `7 - 4`    | `3`    |\n"
   ]
  },
  {
   "cell_type": "code",
   "execution_count": 29,
   "id": "251c0b2a-f1d9-4ca9-8089-46b16a4940b4",
   "metadata": {},
   "outputs": [
    {
     "name": "stdout",
     "output_type": "stream",
     "text": [
      "17\n"
     ]
    }
   ],
   "source": [
    "# This is a simple arithmetic expression to multiply then add integers\n",
    "print((3 * 4) + 5)\n"
   ]
  },
  {
   "cell_type": "code",
   "execution_count": 31,
   "id": "483de925-56cf-4fb2-a60f-e99a35d10a36",
   "metadata": {},
   "outputs": [
    {
     "name": "stdout",
     "output_type": "stream",
     "text": [
      "3.3333333333333335\n"
     ]
    }
   ],
   "source": [
    "# This will convert 200 minutes to hours by dividing by 60\n",
    "minutes = 200\n",
    "hours = minutes / 60\n",
    "print(hours)\n",
    "\n"
   ]
  },
  {
   "cell_type": "markdown",
   "id": "8a88e634-cd91-4316-a718-8339772530b9",
   "metadata": {},
   "source": [
    "**Objectives:**\n",
    "\n",
    "- List popular languages for Data Science\n",
    "- Understand how to evaluate arithmetic expressions in Python\n",
    "- Convert units (e.g., minutes to hours)\n",
    "- Work with basic Data Science tools and libraries\n",
    "- Create and format tables and headings in Markdown\n"
   ]
  },
  {
   "cell_type": "markdown",
   "id": "cbb0b221-12ab-4ba1-8d4c-87a6d1927e07",
   "metadata": {},
   "source": [
    "## Author\n",
    "Milica Antic\n"
   ]
  },
  {
   "cell_type": "code",
   "execution_count": null,
   "id": "9cc93b23-c35f-4068-9c6d-4aa35646253f",
   "metadata": {},
   "outputs": [],
   "source": []
  }
 ],
 "metadata": {
  "kernelspec": {
   "display_name": "Python [conda env:base] *",
   "language": "python",
   "name": "conda-base-py"
  },
  "language_info": {
   "codemirror_mode": {
    "name": "ipython",
    "version": 3
   },
   "file_extension": ".py",
   "mimetype": "text/x-python",
   "name": "python",
   "nbconvert_exporter": "python",
   "pygments_lexer": "ipython3",
   "version": "3.12.7"
  }
 },
 "nbformat": 4,
 "nbformat_minor": 5
}
