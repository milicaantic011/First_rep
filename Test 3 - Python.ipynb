{
 "cells": [
  {
   "cell_type": "markdown",
   "metadata": {},
   "source": [
    "# Python Test"
   ]
  },
  {
   "cell_type": "markdown",
   "metadata": {},
   "source": [
    "### Instructions"
   ]
  },
  {
   "cell_type": "markdown",
   "metadata": {},
   "source": [
    "Welcome to the Python test!\n",
    "\n",
    "The goal of this test is to assess your current knowledge and skills in the basic concepts of the Python programming language. The test covers topics such as: functions, data structures, loops, conditional expressions, etc. It consists of 5 tasks, each task carries a certain number of points, and the maximum possible score is 5 points.\n",
    "\n",
    "Use this notebook to solve the tasks. It is your responsibility to set up your environment and install all necessary libraries. For each task, write your solutions in the cell below the task description.\n",
    "\n",
    "Be sure to save your work as you progress.\n",
    "You can send your solution via slack or email. Good luck and read the tasks carefully!"
   ]
  },
  {
   "cell_type": "markdown",
   "metadata": {},
   "source": [
    "### Tasks"
   ]
  },
  {
   "cell_type": "markdown",
   "metadata": {},
   "source": [
    "1. Write a function that returns a maximum of 2 arbitrary integers. (0.5p)"
   ]
  },
  {
   "cell_type": "code",
   "execution_count": 4,
   "metadata": {},
   "outputs": [],
   "source": [
    "def max_of_two(a, b):\n",
    "    return a if a > b else b"
   ]
  },
  {
   "cell_type": "markdown",
   "metadata": {},
   "source": [
    "2. Write a function that takes a list of numbers and returns their average. (0.5p)"
   ]
  },
  {
   "cell_type": "code",
   "execution_count": 10,
   "metadata": {},
   "outputs": [
    {
     "name": "stdout",
     "output_type": "stream",
     "text": [
      "3.0\n",
      "0\n"
     ]
    }
   ],
   "source": [
    "def average(numbers):\n",
    "    if not numbers:\n",
    "        return 0  # Avoid division by zero\n",
    "    return sum(numbers) / len(numbers)\n",
    "    print(average([10, 20, 30]))     # Output: 20.0\n",
    "print(average([1, 2, 3, 4, 5]))  # Output: 3.0\n",
    "print(average([]))              # Output: 0\n"
   ]
  },
  {
   "cell_type": "markdown",
   "metadata": {},
   "source": [
    "3. Write a function that checks if a given string contains subword `coder` or `srb` and returns appropriate message. (1p)"
   ]
  },
  {
   "cell_type": "code",
   "execution_count": 16,
   "metadata": {},
   "outputs": [],
   "source": [
    "# Task 3: Your solution here...def check_subword(text):\n",
    "def check_subword(text):\n",
    "    if \"coder\" in text:\n",
    "        return \"The string contains 'coder'.\"\n",
    "    elif \"srb\" in text:\n",
    "        return \"The string contains 'srb'.\"\n",
    "    else:\n",
    "        return \"The string contains neither 'coder' nor 'srb'.\""
   ]
  },
  {
   "cell_type": "markdown",
   "metadata": {},
   "source": [
    "4. Write a function that takes a list of numbers and returns a dictionary with the count of odd and even values. (1p)"
   ]
  },
  {
   "cell_type": "code",
   "execution_count": 20,
   "metadata": {},
   "outputs": [],
   "source": [
    "def count_odd_even(numbers):\n",
    "    result = {'odd': 0, 'even': 0}\n",
    "    for num in numbers:\n",
    "        if num % 2 == 0:\n",
    "            result['even'] += 1\n",
    "        else:\n",
    "            result['odd'] += 1\n",
    "    return result"
   ]
  },
  {
   "cell_type": "markdown",
   "metadata": {},
   "source": [
    "5. Write a function that accepts two lists, one containing keys and the other containing corresponding values, and returns a dictionary created by pairing the elements from the two lists. (2p)"
   ]
  },
  {
   "cell_type": "code",
   "execution_count": 24,
   "metadata": {},
   "outputs": [],
   "source": [
    "def create_dict(keys, values):\n",
    "    return dict(zip(keys, values))"
   ]
  },
  {
   "cell_type": "markdown",
   "metadata": {},
   "source": [
    "- Bonus task (optional): Write a function that checks whether a given series of brackets is “balanced”. A series of parentheses is \"balanced\" if every open parenthesis has a corresponding closed parenthesis in the correct order. (2p)\n",
    "\n",
    "Example: For input \"()\" write true, while for input \"({)\" write false."
   ]
  },
  {
   "cell_type": "code",
   "execution_count": 30,
   "metadata": {},
   "outputs": [],
   "source": [
    "def is_valid_brackets(brackets):  # Added function definition\n",
    "    stack = []\n",
    "    matching = {')': '(', '}': '{', ']': '['}\n",
    "\n",
    "    for char in brackets:\n",
    "        if char in '({[':\n",
    "            stack.append(char)\n",
    "        elif char in ')}]':\n",
    "            if not stack or stack[-1] != matching[char]:\n",
    "                return False\n",
    "            stack.pop()\n",
    "    \n",
    "    return len(stack) == 0  # Removed the '...' that was causing the syntax error"
   ]
  },
  {
   "cell_type": "code",
   "execution_count": null,
   "metadata": {},
   "outputs": [],
   "source": []
  },
  {
   "cell_type": "code",
   "execution_count": null,
   "metadata": {},
   "outputs": [],
   "source": []
  }
 ],
 "metadata": {
  "kernelspec": {
   "display_name": "Python [conda env:base] *",
   "language": "python",
   "name": "conda-base-py"
  },
  "language_info": {
   "codemirror_mode": {
    "name": "ipython",
    "version": 3
   },
   "file_extension": ".py",
   "mimetype": "text/x-python",
   "name": "python",
   "nbconvert_exporter": "python",
   "pygments_lexer": "ipython3",
   "version": "3.12.7"
  }
 },
 "nbformat": 4,
 "nbformat_minor": 4
}
